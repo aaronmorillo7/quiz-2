{
 "cells": [
  {
   "cell_type": "code",
   "execution_count": 1,
   "id": "3817e469-e8b4-4f57-a052-620b857507db",
   "metadata": {},
   "outputs": [
    {
     "name": "stdout",
     "output_type": "stream",
     "text": [
      "<class 'pandas.core.frame.DataFrame'>\n",
      "RangeIndex: 197428 entries, 0 to 197427\n",
      "Data columns (total 16 columns):\n",
      " #   Column                                        Non-Null Count   Dtype  \n",
      "---  ------                                        --------------   -----  \n",
      " 0   market_id                                     196441 non-null  float64\n",
      " 1   created_at                                    197428 non-null  object \n",
      " 2   actual_delivery_time                          197421 non-null  object \n",
      " 3   store_id                                      197428 non-null  int64  \n",
      " 4   store_primary_category                        192668 non-null  object \n",
      " 5   order_protocol                                196433 non-null  float64\n",
      " 6   total_items                                   197428 non-null  int64  \n",
      " 7   subtotal                                      197428 non-null  int64  \n",
      " 8   num_distinct_items                            197428 non-null  int64  \n",
      " 9   min_item_price                                197428 non-null  int64  \n",
      " 10  max_item_price                                197428 non-null  int64  \n",
      " 11  total_onshift_dashers                         181166 non-null  float64\n",
      " 12  total_busy_dashers                            181166 non-null  float64\n",
      " 13  total_outstanding_orders                      181166 non-null  float64\n",
      " 14  estimated_order_place_duration                197428 non-null  int64  \n",
      " 15  estimated_store_to_consumer_driving_duration  196902 non-null  float64\n",
      "dtypes: float64(6), int64(7), object(3)\n",
      "memory usage: 24.1+ MB\n",
      "<class 'pandas.core.frame.DataFrame'>\n",
      "RangeIndex: 197428 entries, 0 to 197427\n",
      "Data columns (total 16 columns):\n",
      " #   Column                                        Non-Null Count   Dtype         \n",
      "---  ------                                        --------------   -----         \n",
      " 0   market_id                                     196441 non-null  float64       \n",
      " 1   created_at                                    197428 non-null  datetime64[ns]\n",
      " 2   actual_delivery_time                          197421 non-null  datetime64[ns]\n",
      " 3   store_id                                      197428 non-null  int64         \n",
      " 4   store_primary_category                        192668 non-null  object        \n",
      " 5   order_protocol                                196433 non-null  float64       \n",
      " 6   total_items                                   197428 non-null  int64         \n",
      " 7   subtotal                                      197428 non-null  int64         \n",
      " 8   num_distinct_items                            197428 non-null  int64         \n",
      " 9   min_item_price                                197428 non-null  int64         \n",
      " 10  max_item_price                                197428 non-null  int64         \n",
      " 11  total_onshift_dashers                         181166 non-null  float64       \n",
      " 12  total_busy_dashers                            181166 non-null  float64       \n",
      " 13  total_outstanding_orders                      181166 non-null  float64       \n",
      " 14  estimated_order_place_duration                197428 non-null  int64         \n",
      " 15  estimated_store_to_consumer_driving_duration  196902 non-null  float64       \n",
      "dtypes: datetime64[ns](2), float64(6), int64(7), object(1)\n",
      "memory usage: 24.1+ MB\n"
     ]
    }
   ],
   "source": [
    "import pandas as pd\n",
    "import seaborn as sb\n",
    "import matplotlib.pyplot as plt\n",
    "\n",
    "dataset = pd.read_csv('datasets/historical_data.csv')\n",
    "\n",
    "dataset.info()\n",
    "\n",
    "dataset['created_at'] = pd.to_datetime(dataset['created_at'], format='%Y-%m-%d %H:%M:%S')\n",
    "\n",
    "dataset['actual_delivery_time'] = pd.to_datetime(dataset['actual_delivery_time'], format='%Y-%m-%d %H:%M:%S')\n",
    "\n",
    "dataset.info()"
   ]
  },
  {
   "cell_type": "code",
   "execution_count": 2,
   "id": "af8bb496-6073-4a77-8892-32d2ab2274ae",
   "metadata": {},
   "outputs": [
    {
     "data": {
      "text/html": [
       "<div>\n",
       "<style scoped>\n",
       "    .dataframe tbody tr th:only-of-type {\n",
       "        vertical-align: middle;\n",
       "    }\n",
       "\n",
       "    .dataframe tbody tr th {\n",
       "        vertical-align: top;\n",
       "    }\n",
       "\n",
       "    .dataframe thead th {\n",
       "        text-align: right;\n",
       "    }\n",
       "</style>\n",
       "<table border=\"1\" class=\"dataframe\">\n",
       "  <thead>\n",
       "    <tr style=\"text-align: right;\">\n",
       "      <th></th>\n",
       "      <th>market_id</th>\n",
       "      <th>created_at</th>\n",
       "      <th>actual_delivery_time</th>\n",
       "      <th>store_id</th>\n",
       "      <th>store_primary_category</th>\n",
       "      <th>order_protocol</th>\n",
       "      <th>total_items</th>\n",
       "      <th>subtotal</th>\n",
       "      <th>num_distinct_items</th>\n",
       "      <th>min_item_price</th>\n",
       "      <th>max_item_price</th>\n",
       "      <th>total_onshift_dashers</th>\n",
       "      <th>total_busy_dashers</th>\n",
       "      <th>total_outstanding_orders</th>\n",
       "      <th>estimated_order_place_duration</th>\n",
       "      <th>estimated_store_to_consumer_driving_duration</th>\n",
       "    </tr>\n",
       "  </thead>\n",
       "  <tbody>\n",
       "    <tr>\n",
       "      <th>0</th>\n",
       "      <td>1.0</td>\n",
       "      <td>2015-02-06 22:24:17</td>\n",
       "      <td>2015-02-06 23:27:16</td>\n",
       "      <td>1845</td>\n",
       "      <td>american</td>\n",
       "      <td>1.0</td>\n",
       "      <td>4</td>\n",
       "      <td>3441</td>\n",
       "      <td>4</td>\n",
       "      <td>557</td>\n",
       "      <td>1239</td>\n",
       "      <td>33.0</td>\n",
       "      <td>14.0</td>\n",
       "      <td>21.0</td>\n",
       "      <td>446</td>\n",
       "      <td>861.0</td>\n",
       "    </tr>\n",
       "    <tr>\n",
       "      <th>1</th>\n",
       "      <td>2.0</td>\n",
       "      <td>2015-02-10 21:49:25</td>\n",
       "      <td>2015-02-10 22:56:29</td>\n",
       "      <td>5477</td>\n",
       "      <td>mexican</td>\n",
       "      <td>2.0</td>\n",
       "      <td>1</td>\n",
       "      <td>1900</td>\n",
       "      <td>1</td>\n",
       "      <td>1400</td>\n",
       "      <td>1400</td>\n",
       "      <td>1.0</td>\n",
       "      <td>2.0</td>\n",
       "      <td>2.0</td>\n",
       "      <td>446</td>\n",
       "      <td>690.0</td>\n",
       "    </tr>\n",
       "    <tr>\n",
       "      <th>2</th>\n",
       "      <td>3.0</td>\n",
       "      <td>2015-01-22 20:39:28</td>\n",
       "      <td>2015-01-22 21:09:09</td>\n",
       "      <td>5477</td>\n",
       "      <td>NaN</td>\n",
       "      <td>1.0</td>\n",
       "      <td>1</td>\n",
       "      <td>1900</td>\n",
       "      <td>1</td>\n",
       "      <td>1900</td>\n",
       "      <td>1900</td>\n",
       "      <td>1.0</td>\n",
       "      <td>0.0</td>\n",
       "      <td>0.0</td>\n",
       "      <td>446</td>\n",
       "      <td>690.0</td>\n",
       "    </tr>\n",
       "    <tr>\n",
       "      <th>3</th>\n",
       "      <td>3.0</td>\n",
       "      <td>2015-02-03 21:21:45</td>\n",
       "      <td>2015-02-03 22:13:00</td>\n",
       "      <td>5477</td>\n",
       "      <td>NaN</td>\n",
       "      <td>1.0</td>\n",
       "      <td>6</td>\n",
       "      <td>6900</td>\n",
       "      <td>5</td>\n",
       "      <td>600</td>\n",
       "      <td>1800</td>\n",
       "      <td>1.0</td>\n",
       "      <td>1.0</td>\n",
       "      <td>2.0</td>\n",
       "      <td>446</td>\n",
       "      <td>289.0</td>\n",
       "    </tr>\n",
       "    <tr>\n",
       "      <th>4</th>\n",
       "      <td>3.0</td>\n",
       "      <td>2015-02-15 02:40:36</td>\n",
       "      <td>2015-02-15 03:20:26</td>\n",
       "      <td>5477</td>\n",
       "      <td>NaN</td>\n",
       "      <td>1.0</td>\n",
       "      <td>3</td>\n",
       "      <td>3900</td>\n",
       "      <td>3</td>\n",
       "      <td>1100</td>\n",
       "      <td>1600</td>\n",
       "      <td>6.0</td>\n",
       "      <td>6.0</td>\n",
       "      <td>9.0</td>\n",
       "      <td>446</td>\n",
       "      <td>650.0</td>\n",
       "    </tr>\n",
       "    <tr>\n",
       "      <th>...</th>\n",
       "      <td>...</td>\n",
       "      <td>...</td>\n",
       "      <td>...</td>\n",
       "      <td>...</td>\n",
       "      <td>...</td>\n",
       "      <td>...</td>\n",
       "      <td>...</td>\n",
       "      <td>...</td>\n",
       "      <td>...</td>\n",
       "      <td>...</td>\n",
       "      <td>...</td>\n",
       "      <td>...</td>\n",
       "      <td>...</td>\n",
       "      <td>...</td>\n",
       "      <td>...</td>\n",
       "      <td>...</td>\n",
       "    </tr>\n",
       "    <tr>\n",
       "      <th>197423</th>\n",
       "      <td>1.0</td>\n",
       "      <td>2015-02-17 00:19:41</td>\n",
       "      <td>2015-02-17 01:24:48</td>\n",
       "      <td>2956</td>\n",
       "      <td>fast</td>\n",
       "      <td>4.0</td>\n",
       "      <td>3</td>\n",
       "      <td>1389</td>\n",
       "      <td>3</td>\n",
       "      <td>345</td>\n",
       "      <td>649</td>\n",
       "      <td>17.0</td>\n",
       "      <td>17.0</td>\n",
       "      <td>23.0</td>\n",
       "      <td>251</td>\n",
       "      <td>331.0</td>\n",
       "    </tr>\n",
       "    <tr>\n",
       "      <th>197424</th>\n",
       "      <td>1.0</td>\n",
       "      <td>2015-02-13 00:01:59</td>\n",
       "      <td>2015-02-13 00:58:22</td>\n",
       "      <td>2956</td>\n",
       "      <td>fast</td>\n",
       "      <td>4.0</td>\n",
       "      <td>6</td>\n",
       "      <td>3010</td>\n",
       "      <td>4</td>\n",
       "      <td>405</td>\n",
       "      <td>825</td>\n",
       "      <td>12.0</td>\n",
       "      <td>11.0</td>\n",
       "      <td>14.0</td>\n",
       "      <td>251</td>\n",
       "      <td>915.0</td>\n",
       "    </tr>\n",
       "    <tr>\n",
       "      <th>197425</th>\n",
       "      <td>1.0</td>\n",
       "      <td>2015-01-24 04:46:08</td>\n",
       "      <td>2015-01-24 05:36:16</td>\n",
       "      <td>2956</td>\n",
       "      <td>fast</td>\n",
       "      <td>4.0</td>\n",
       "      <td>5</td>\n",
       "      <td>1836</td>\n",
       "      <td>3</td>\n",
       "      <td>300</td>\n",
       "      <td>399</td>\n",
       "      <td>39.0</td>\n",
       "      <td>41.0</td>\n",
       "      <td>40.0</td>\n",
       "      <td>251</td>\n",
       "      <td>795.0</td>\n",
       "    </tr>\n",
       "    <tr>\n",
       "      <th>197426</th>\n",
       "      <td>1.0</td>\n",
       "      <td>2015-02-01 18:18:15</td>\n",
       "      <td>2015-02-01 19:23:22</td>\n",
       "      <td>3630</td>\n",
       "      <td>sandwich</td>\n",
       "      <td>1.0</td>\n",
       "      <td>1</td>\n",
       "      <td>1175</td>\n",
       "      <td>1</td>\n",
       "      <td>535</td>\n",
       "      <td>535</td>\n",
       "      <td>7.0</td>\n",
       "      <td>7.0</td>\n",
       "      <td>12.0</td>\n",
       "      <td>446</td>\n",
       "      <td>384.0</td>\n",
       "    </tr>\n",
       "    <tr>\n",
       "      <th>197427</th>\n",
       "      <td>1.0</td>\n",
       "      <td>2015-02-08 19:24:33</td>\n",
       "      <td>2015-02-08 20:01:41</td>\n",
       "      <td>3630</td>\n",
       "      <td>sandwich</td>\n",
       "      <td>1.0</td>\n",
       "      <td>4</td>\n",
       "      <td>2605</td>\n",
       "      <td>4</td>\n",
       "      <td>425</td>\n",
       "      <td>750</td>\n",
       "      <td>20.0</td>\n",
       "      <td>20.0</td>\n",
       "      <td>23.0</td>\n",
       "      <td>446</td>\n",
       "      <td>134.0</td>\n",
       "    </tr>\n",
       "  </tbody>\n",
       "</table>\n",
       "<p>197428 rows × 16 columns</p>\n",
       "</div>"
      ],
      "text/plain": [
       "        market_id          created_at actual_delivery_time  store_id  \\\n",
       "0             1.0 2015-02-06 22:24:17  2015-02-06 23:27:16      1845   \n",
       "1             2.0 2015-02-10 21:49:25  2015-02-10 22:56:29      5477   \n",
       "2             3.0 2015-01-22 20:39:28  2015-01-22 21:09:09      5477   \n",
       "3             3.0 2015-02-03 21:21:45  2015-02-03 22:13:00      5477   \n",
       "4             3.0 2015-02-15 02:40:36  2015-02-15 03:20:26      5477   \n",
       "...           ...                 ...                  ...       ...   \n",
       "197423        1.0 2015-02-17 00:19:41  2015-02-17 01:24:48      2956   \n",
       "197424        1.0 2015-02-13 00:01:59  2015-02-13 00:58:22      2956   \n",
       "197425        1.0 2015-01-24 04:46:08  2015-01-24 05:36:16      2956   \n",
       "197426        1.0 2015-02-01 18:18:15  2015-02-01 19:23:22      3630   \n",
       "197427        1.0 2015-02-08 19:24:33  2015-02-08 20:01:41      3630   \n",
       "\n",
       "       store_primary_category  order_protocol  total_items  subtotal  \\\n",
       "0                    american             1.0            4      3441   \n",
       "1                     mexican             2.0            1      1900   \n",
       "2                         NaN             1.0            1      1900   \n",
       "3                         NaN             1.0            6      6900   \n",
       "4                         NaN             1.0            3      3900   \n",
       "...                       ...             ...          ...       ...   \n",
       "197423                   fast             4.0            3      1389   \n",
       "197424                   fast             4.0            6      3010   \n",
       "197425                   fast             4.0            5      1836   \n",
       "197426               sandwich             1.0            1      1175   \n",
       "197427               sandwich             1.0            4      2605   \n",
       "\n",
       "        num_distinct_items  min_item_price  max_item_price  \\\n",
       "0                        4             557            1239   \n",
       "1                        1            1400            1400   \n",
       "2                        1            1900            1900   \n",
       "3                        5             600            1800   \n",
       "4                        3            1100            1600   \n",
       "...                    ...             ...             ...   \n",
       "197423                   3             345             649   \n",
       "197424                   4             405             825   \n",
       "197425                   3             300             399   \n",
       "197426                   1             535             535   \n",
       "197427                   4             425             750   \n",
       "\n",
       "        total_onshift_dashers  total_busy_dashers  total_outstanding_orders  \\\n",
       "0                        33.0                14.0                      21.0   \n",
       "1                         1.0                 2.0                       2.0   \n",
       "2                         1.0                 0.0                       0.0   \n",
       "3                         1.0                 1.0                       2.0   \n",
       "4                         6.0                 6.0                       9.0   \n",
       "...                       ...                 ...                       ...   \n",
       "197423                   17.0                17.0                      23.0   \n",
       "197424                   12.0                11.0                      14.0   \n",
       "197425                   39.0                41.0                      40.0   \n",
       "197426                    7.0                 7.0                      12.0   \n",
       "197427                   20.0                20.0                      23.0   \n",
       "\n",
       "        estimated_order_place_duration  \\\n",
       "0                                  446   \n",
       "1                                  446   \n",
       "2                                  446   \n",
       "3                                  446   \n",
       "4                                  446   \n",
       "...                                ...   \n",
       "197423                             251   \n",
       "197424                             251   \n",
       "197425                             251   \n",
       "197426                             446   \n",
       "197427                             446   \n",
       "\n",
       "        estimated_store_to_consumer_driving_duration  \n",
       "0                                              861.0  \n",
       "1                                              690.0  \n",
       "2                                              690.0  \n",
       "3                                              289.0  \n",
       "4                                              650.0  \n",
       "...                                              ...  \n",
       "197423                                         331.0  \n",
       "197424                                         915.0  \n",
       "197425                                         795.0  \n",
       "197426                                         384.0  \n",
       "197427                                         134.0  \n",
       "\n",
       "[197428 rows x 16 columns]"
      ]
     },
     "execution_count": 2,
     "metadata": {},
     "output_type": "execute_result"
    }
   ],
   "source": [
    "dataset"
   ]
  },
  {
   "cell_type": "code",
   "execution_count": null,
   "id": "c19c9752-4632-4470-a9af-7df0bdee5ad1",
   "metadata": {},
   "outputs": [],
   "source": []
  },
  {
   "cell_type": "markdown",
   "id": "20672867-4bf6-4a5d-9f07-fc6ae8e7dbd9",
   "metadata": {},
   "source": [
    "# Pregunta 1"
   ]
  },
  {
   "cell_type": "code",
   "execution_count": 3,
   "id": "0ecca006-e941-47d5-a825-9def0aa43138",
   "metadata": {},
   "outputs": [
    {
     "name": "stdout",
     "output_type": "stream",
     "text": [
      "      store_id  subtotal\n",
      "0         6074   2636241\n",
      "1         2056   1973935\n",
      "2         3937   1971088\n",
      "3         4428   1880387\n",
      "4         3748   1821966\n",
      "...        ...       ...\n",
      "6738      5417       388\n",
      "6739      1062       339\n",
      "6740       657       300\n",
      "6741      3796       230\n",
      "6742       214       215\n",
      "\n",
      "[6743 rows x 2 columns]\n"
     ]
    },
    {
     "data": {
      "text/plain": [
       "<Axes: xlabel='store_id', ylabel='subtotal'>"
      ]
     },
     "execution_count": 3,
     "metadata": {},
     "output_type": "execute_result"
    },
    {
     "data": {
      "image/png": "[encoded data removed]",
      "text/plain": [
       "<Figure size 640x480 with 1 Axes>"
      ]
     },
     "metadata": {},
     "output_type": "display_data"
    }
   ],
   "source": [
    "filtered_dataset = dataset[['store_id', 'subtotal']]\n",
    "\n",
    "filtered_dataset = filtered_dataset.groupby(['store_id'])\n",
    "\n",
    "filtered_dataset = filtered_dataset['subtotal'].sum()\n",
    "\n",
    "filtered_dataset = filtered_dataset.sort_values(ascending=False)\n",
    "\n",
    "filtered_dataset = filtered_dataset.reset_index()\n",
    "\n",
    "print(filtered_dataset)\n",
    "\n",
    "plt.xlabel('Store id')\n",
    "\n",
    "plt.ylabel('Subtotal')\n",
    "\n",
    "sb.barplot(filtered_dataset[0:5], x='store_id', y='subtotal')\n"
   ]
  },
  {
   "cell_type": "markdown",
   "id": "9d13dd07-3a41-4fa6-a128-491218c5b1a7",
   "metadata": {},
   "source": [
    "La tienda con más cantidad de dinero en ventas es la tienda con ID:"
   ]
  },
  {
   "cell_type": "code",
   "execution_count": 4,
   "id": "8bf962f6-d279-43cb-9b24-e19908d08549",
   "metadata": {},
   "outputs": [
    {
     "data": {
      "text/plain": [
       "6074"
      ]
     },
     "execution_count": 4,
     "metadata": {},
     "output_type": "execute_result"
    }
   ],
   "source": [
    "filtered_dataset.loc[0, 'store_id']"
   ]
  },
  {
   "cell_type": "markdown",
   "id": "1ca74ffa-0345-4036-89ca-62c2bf7e0baa",
   "metadata": {},
   "source": [
    "# Pregunta 2"
   ]
  },
  {
   "cell_type": "code",
   "execution_count": 5,
   "id": "154cca86-0d89-4249-a07f-f84a0437bd27",
   "metadata": {},
   "outputs": [],
   "source": [
    "filtered_dataset = dataset[['store_id', 'store_primary_category']].loc[dataset['store_primary_category'] == 'pizza']\n",
    "\n",
    "filtered_dataset = filtered_dataset.groupby(['store_id'])"
   ]
  },
  {
   "cell_type": "markdown",
   "id": "411d1ade-113e-491d-a8e4-4cf90905693f",
   "metadata": {},
   "source": [
    "El número de distintos stores que venden pizzas es:"
   ]
  },
  {
   "cell_type": "code",
   "execution_count": 6,
   "id": "f46031a8-20c6-4eb6-901d-77c7d09aaacf",
   "metadata": {},
   "outputs": [
    {
     "name": "stdout",
     "output_type": "stream",
     "text": [
      "1088\n"
     ]
    }
   ],
   "source": [
    "print(filtered_dataset.ngroups)"
   ]
  },
  {
   "cell_type": "markdown",
   "id": "78d95f50-81b2-427f-8966-05ba16a77909",
   "metadata": {},
   "source": [
    "# Pregunta 3"
   ]
  },
  {
   "cell_type": "markdown",
   "id": "316552cf-d087-48cd-92da-e49d3085aa5e",
   "metadata": {},
   "source": [
    "Para saber si existe relación entre estas dos columnas, se establecerá una matriz de correlación, pues esta nos permite saber no solo la dirección de la relación sino también la fuerza de esta."
   ]
  },
  {
   "cell_type": "code",
   "execution_count": 7,
   "id": "4b336f95-486e-4a75-9208-e0783e9bd83b",
   "metadata": {},
   "outputs": [
    {
     "data": {
      "text/html": [
       "<div>\n",
       "<style scoped>\n",
       "    .dataframe tbody tr th:only-of-type {\n",
       "        vertical-align: middle;\n",
       "    }\n",
       "\n",
       "    .dataframe tbody tr th {\n",
       "        vertical-align: top;\n",
       "    }\n",
       "\n",
       "    .dataframe thead th {\n",
       "        text-align: right;\n",
       "    }\n",
       "</style>\n",
       "<table border=\"1\" class=\"dataframe\">\n",
       "  <thead>\n",
       "    <tr style=\"text-align: right;\">\n",
       "      <th></th>\n",
       "      <th>num_distinct_items</th>\n",
       "      <th>estimated_store_to_consumer_driving_duration</th>\n",
       "    </tr>\n",
       "  </thead>\n",
       "  <tbody>\n",
       "    <tr>\n",
       "      <th>num_distinct_items</th>\n",
       "      <td>1.000000</td>\n",
       "      <td>0.022693</td>\n",
       "    </tr>\n",
       "    <tr>\n",
       "      <th>estimated_store_to_consumer_driving_duration</th>\n",
       "      <td>0.022693</td>\n",
       "      <td>1.000000</td>\n",
       "    </tr>\n",
       "  </tbody>\n",
       "</table>\n",
       "</div>"
      ],
      "text/plain": [
       "                                              num_distinct_items  \\\n",
       "num_distinct_items                                      1.000000   \n",
       "estimated_store_to_consumer_driving_duration            0.022693   \n",
       "\n",
       "                                              estimated_store_to_consumer_driving_duration  \n",
       "num_distinct_items                                                                0.022693  \n",
       "estimated_store_to_consumer_driving_duration                                      1.000000  "
      ]
     },
     "execution_count": 7,
     "metadata": {},
     "output_type": "execute_result"
    }
   ],
   "source": [
    "filtered_dataset = dataset[['num_distinct_items', 'estimated_store_to_consumer_driving_duration']]\n",
    "\n",
    "filtered_dataset.corr()"
   ]
  },
  {
   "cell_type": "markdown",
   "id": "a383ef8e-d9f7-493f-b7be-c57648ab950a",
   "metadata": {},
   "source": [
    "Con esto se concluye que las dos variables, considerando que el valor de la correlación es muy cercano a 0 (prácticamente 0), basicamente no están correlacionadas. Aún así, se sabe que debido a que el resultado es número positivo bastante bajo, pudiese decirse que existe una correlación bastante débil entre estas dos.  "
   ]
  },
  {
   "cell_type": "markdown",
   "id": "a6e9018a-406b-4429-be1d-68b514435f27",
   "metadata": {},
   "source": [
    "# Pregunta 4"
   ]
  },
  {
   "cell_type": "markdown",
   "id": "72c8eacf-6872-40e1-8ef6-f3b25a082be1",
   "metadata": {},
   "source": [
    "Se realizará un ordenamiento por el valor total promedio de los tiempos de duración por categoría de comida. Con esto se mostrarán en una gráfica los 5 primeros valores, ya que al estar ordenado de forma ascendente por tiempo de preparación, el primero siempre será el menor."
   ]
  },
  {
   "cell_type": "code",
   "execution_count": 8,
   "id": "f059c14a-e678-4c7f-a318-390ba6e60ab5",
   "metadata": {},
   "outputs": [
    {
     "name": "stderr",
     "output_type": "stream",
     "text": [
      "/tmp/ipykernel_77816/2095814938.py:3: SettingWithCopyWarning: \n",
      "A value is trying to be set on a copy of a slice from a DataFrame.\n",
      "Try using .loc[row_indexer,col_indexer] = value instead\n",
      "\n",
      "See the caveats in the documentation: https://pandas.pydata.org/pandas-docs/stable/user_guide/indexing.html#returning-a-view-versus-a-copy\n",
      "  filtered_dataset['preparation_time'] = (filtered_dataset['actual_delivery_time'] - filtered_dataset['created_at']).dt.total_seconds()\n"
     ]
    },
    {
     "data": {
      "image/png": "[encoded data removed]",
      "text/plain": [
       "<Figure size 640x480 with 1 Axes>"
      ]
     },
     "metadata": {},
     "output_type": "display_data"
    }
   ],
   "source": [
    "filtered_dataset = dataset[['created_at', 'actual_delivery_time', 'store_primary_category']]\n",
    "\n",
    "filtered_dataset['preparation_time'] = (filtered_dataset['actual_delivery_time'] - filtered_dataset['created_at']).dt.total_seconds()\n",
    "\n",
    "filtered_dataset = filtered_dataset.groupby('store_primary_category')\n",
    "\n",
    "filtered_dataset = filtered_dataset['preparation_time'].mean()\n",
    "\n",
    "filtered_dataset = filtered_dataset.sort_values(ascending=True)\n",
    "\n",
    "filtered_dataset = filtered_dataset.reset_index()\n",
    "\n",
    "sb.barplot(filtered_dataset[0:5], x='store_primary_category', y='preparation_time')\n",
    "\n",
    "plt.xlabel('Store primary category')\n",
    "\n",
    "plt.ylabel('Preparation time mean')\n",
    "\n",
    "plt.show()"
   ]
  },
  {
   "cell_type": "markdown",
   "id": "e5f400fa-4e43-41f5-b2f1-8a4bf0995a28",
   "metadata": {},
   "source": [
    "Así, se tiene que usando el tiempo de preparación en promedio de cada tipo de comida, la categoría \"chocolate\" es la que tiene menos tiempo de preparación."
   ]
  },
  {
   "cell_type": "code",
   "execution_count": 9,
   "id": "63aa7e61-57d3-4d7f-b771-9a49ae9d0f5a",
   "metadata": {},
   "outputs": [
    {
     "data": {
      "text/plain": [
       "store_primary_category    chocolate\n",
       "preparation_time             2048.0\n",
       "Name: 0, dtype: object"
      ]
     },
     "execution_count": 9,
     "metadata": {},
     "output_type": "execute_result"
    }
   ],
   "source": [
    "filtered_dataset.loc[0]"
   ]
  },
  {
   "cell_type": "markdown",
   "id": "65be29b7-1a0a-43cc-8b15-38e5c176a16e",
   "metadata": {},
   "source": [
    "# Pregunta 5"
   ]
  },
  {
   "cell_type": "markdown",
   "id": "7703942b-2489-4559-aab9-c7c9ee11634e",
   "metadata": {},
   "source": [
    "Para obtener la ubicación con menos ordenes se aplicará una búsqueda clásica con una agrupación por \"market id\"."
   ]
  },
  {
   "cell_type": "code",
   "execution_count": 10,
   "id": "f7a5f66e-2bff-4e11-984c-93203b70b209",
   "metadata": {},
   "outputs": [
    {
     "data": {
      "image/png": "[encoded data removed]",
      "text/plain": [
       "<Figure size 640x480 with 1 Axes>"
      ]
     },
     "metadata": {},
     "output_type": "display_data"
    },
    {
     "name": "stdout",
     "output_type": "stream",
     "text": [
      "market_id            6.0\n",
      "orders_number    14450.0\n",
      "Name: 5, dtype: float64\n"
     ]
    }
   ],
   "source": [
    "filtered_dataset = dataset[['market_id', 'created_at', 'actual_delivery_time', 'total_outstanding_orders']].groupby('market_id')\n",
    "\n",
    "filtered_dataset = filtered_dataset.size().reset_index()\n",
    "\n",
    "filtered_dataset.columns = ['market_id', 'orders_number']\n",
    "\n",
    "sb.barplot(filtered_dataset, x='market_id', y='orders_number')\n",
    "\n",
    "plt.xlabel('Market id')\n",
    "\n",
    "plt.ylabel('Orders number')\n",
    "\n",
    "plt.show()\n",
    "\n",
    "print(filtered_dataset.loc[5])"
   ]
  },
  {
   "cell_type": "markdown",
   "id": "da9bc600-bbf3-4088-96b6-dd392170a468",
   "metadata": {},
   "source": [
    "Como se puede ver, la ubicación 6 es la que tiene menos ordenes, así, esta es la que se procederá a usar. "
   ]
  },
  {
   "cell_type": "markdown",
   "id": "27ef2d8b-78ba-47b6-990b-fda4168f88e4",
   "metadata": {},
   "source": [
    "Ahora, se buscará cual es la mejor hora para ordenar entre las 5:00pm y las 10:00pm en la ubcación 6. Se tomarán dos variables en consideración para tomar medidas, la primera será con el número de ordenes por hora y la segunda seŕa por tiempo de preparación por hora."
   ]
  },
  {
   "cell_type": "code",
   "execution_count": 11,
   "id": "3c7ac956-bdde-465e-ab3b-e45b93ac0893",
   "metadata": {},
   "outputs": [
    {
     "name": "stdout",
     "output_type": "stream",
     "text": [
      "   created_at_hour  orders_number\n",
      "0               17            216\n",
      "1               18            382\n",
      "2               19            911\n",
      "3               20            980\n",
      "4               21            800\n",
      "5               22            637\n"
     ]
    },
    {
     "name": "stderr",
     "output_type": "stream",
     "text": [
      "/home/aaron/anaconda3/lib/python3.11/site-packages/seaborn/_oldcore.py:1119: FutureWarning: use_inf_as_na option is deprecated and will be removed in a future version. Convert inf values to NaN before operating instead.\n",
      "  with pd.option_context('mode.use_inf_as_na', True):\n",
      "/home/aaron/anaconda3/lib/python3.11/site-packages/seaborn/_oldcore.py:1119: FutureWarning: use_inf_as_na option is deprecated and will be removed in a future version. Convert inf values to NaN before operating instead.\n",
      "  with pd.option_context('mode.use_inf_as_na', True):\n"
     ]
    },
    {
     "data": {
      "image/png": "[encoded data removed]",
      "text/plain": [
       "<Figure size 640x480 with 1 Axes>"
      ]
     },
     "metadata": {},
     "output_type": "display_data"
    },
    {
     "name": "stdout",
     "output_type": "stream",
     "text": [
      "        market_id          created_at actual_delivery_time  preparation_time\n",
      "160           6.0 2015-02-06 01:11:56  2015-02-06 01:42:51            1855.0\n",
      "161           6.0 2015-02-14 02:07:47  2015-02-14 03:17:37            4190.0\n",
      "162           6.0 2015-01-31 21:58:30  2015-01-31 22:55:32            3422.0\n",
      "163           6.0 2015-02-08 03:28:59  2015-02-08 05:32:11            7392.0\n",
      "164           6.0 2015-01-23 19:29:17  2015-01-23 20:25:25            3368.0\n",
      "...           ...                 ...                  ...               ...\n",
      "196700        6.0 2015-02-09 02:56:41  2015-02-09 03:49:03            3142.0\n",
      "196701        6.0 2015-02-17 03:24:51  2015-02-17 04:37:10            4339.0\n",
      "196893        6.0 2015-02-03 05:31:31  2015-02-03 06:01:08            1777.0\n",
      "197067        6.0 2015-01-23 20:37:37  2015-01-23 21:15:08            2251.0\n",
      "197150        6.0 2015-01-28 02:30:50  2015-01-28 03:40:07            4157.0\n",
      "\n",
      "[14450 rows x 4 columns]\n",
      "   created_at_hour  preparation_time_mean\n",
      "0               17            2735.101852\n",
      "1               18            2719.717277\n",
      "2               19            2798.902305\n",
      "3               20            2691.727551\n",
      "4               21            2568.697500\n",
      "5               22            2584.634223\n"
     ]
    },
    {
     "name": "stderr",
     "output_type": "stream",
     "text": [
      "/home/aaron/anaconda3/lib/python3.11/site-packages/seaborn/_oldcore.py:1119: FutureWarning: use_inf_as_na option is deprecated and will be removed in a future version. Convert inf values to NaN before operating instead.\n",
      "  with pd.option_context('mode.use_inf_as_na', True):\n",
      "/home/aaron/anaconda3/lib/python3.11/site-packages/seaborn/_oldcore.py:1119: FutureWarning: use_inf_as_na option is deprecated and will be removed in a future version. Convert inf values to NaN before operating instead.\n",
      "  with pd.option_context('mode.use_inf_as_na', True):\n"
     ]
    },
    {
     "data": {
      "image/png": "[encoded data removed]",
      "text/plain": [
       "<Figure size 640x480 with 1 Axes>"
      ]
     },
     "metadata": {},
     "output_type": "display_data"
    }
   ],
   "source": [
    "# First alternative with orders number \n",
    "\n",
    "filtered_dataset = dataset[['market_id', 'created_at']].loc[dataset['market_id'] == 6]\n",
    "\n",
    "filtered_dataset = filtered_dataset.groupby(filtered_dataset['created_at'].dt.hour).size().loc[17:22].reset_index()\n",
    "\n",
    "filtered_dataset.columns = ['created_at_hour', 'orders_number'] \n",
    "\n",
    "best_hour_based_orders_number = filtered_dataset.loc[0]\n",
    "\n",
    "print(filtered_dataset)\n",
    "\n",
    "sb.lineplot(filtered_dataset, x=\"created_at_hour\", y=\"orders_number\")\n",
    "\n",
    "plt.xlabel('Hours')\n",
    "\n",
    "plt.ylabel('Orders number')\n",
    "\n",
    "plt.show()\n",
    "\n",
    "# Second alternative with preparation time \n",
    "\n",
    "filtered_dataset = dataset[['market_id', 'created_at', 'actual_delivery_time']].loc[dataset['market_id'] == 6]\n",
    "\n",
    "filtered_dataset['preparation_time'] = (filtered_dataset['actual_delivery_time'] - filtered_dataset['created_at']).dt.total_seconds()\n",
    "\n",
    "print(filtered_dataset)\n",
    "\n",
    "filtered_dataset = filtered_dataset.groupby(filtered_dataset['created_at'].dt.hour)['preparation_time'].mean().loc[17:22].reset_index()\n",
    "\n",
    "filtered_dataset.columns = ['created_at_hour', 'preparation_time_mean'] \n",
    "\n",
    "best_hour_based_preparation_time = filtered_dataset.loc[4]\n",
    "\n",
    "print(filtered_dataset)\n",
    "\n",
    "sb.lineplot(filtered_dataset, x=\"created_at_hour\", y=\"preparation_time_mean\")\n",
    "\n",
    "plt.xlabel('Hours')\n",
    "\n",
    "plt.ylabel('Preparation time mean')\n",
    "\n",
    "plt.show()\n"
   ]
  },
  {
   "cell_type": "markdown",
   "id": "fd665733-783a-4920-882b-b15e0b2026a7",
   "metadata": {},
   "source": [
    "Con esto se concluye que la hora en la mejor hora para ordenar, tomando en cuenta el promedio del número de ordenes pendientes por estas horas, es las 17:00, ya que se tienen alrededor de 9 ordenes en promedio por las horas indicadas, número que, es el mas bajo de entre todos los presentes en el rango propuesto."
   ]
  },
  {
   "cell_type": "code",
   "execution_count": 12,
   "id": "cbef2e56-ee37-45bf-aba3-5c187e71bb19",
   "metadata": {},
   "outputs": [
    {
     "data": {
      "text/plain": [
       "created_at_hour     17\n",
       "orders_number      216\n",
       "Name: 0, dtype: int64"
      ]
     },
     "execution_count": 12,
     "metadata": {},
     "output_type": "execute_result"
    }
   ],
   "source": [
    "best_hour_based_orders_number"
   ]
  },
  {
   "cell_type": "markdown",
   "id": "0a990a0b-737b-42bd-b62f-c1908225ad41",
   "metadata": {},
   "source": [
    "Por otra parte, para el caso del promedio de tiempo de preparación por hora, se concluye que la hora en la que se tiene un promedio más bajo de tiempo de preparación son las 21:00."
   ]
  },
  {
   "cell_type": "code",
   "execution_count": 13,
   "id": "f18ade7a-a504-47b3-a2e8-e450b3554697",
   "metadata": {},
   "outputs": [
    {
     "data": {
      "text/plain": [
       "created_at_hour            21.0000\n",
       "preparation_time_mean    2568.6975\n",
       "Name: 4, dtype: float64"
      ]
     },
     "execution_count": 13,
     "metadata": {},
     "output_type": "execute_result"
    }
   ],
   "source": [
    "best_hour_based_preparation_time"
   ]
  }
 ],
 "metadata": {
  "kernelspec": {
   "display_name": "Python 3 (ipykernel)",
   "language": "python",
   "name": "python3"
  },
  "language_info": {
   "codemirror_mode": {
    "name": "ipython",
    "version": 3
   },
   "file_extension": ".py",
   "mimetype": "text/x-python",
   "name": "python",
   "nbconvert_exporter": "python",
   "pygments_lexer": "ipython3",
   "version": "3.11.7"
  }
 },
 "nbformat": 4,
 "nbformat_minor": 5
}
